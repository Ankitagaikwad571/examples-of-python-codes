{
 "cells": [
  {
   "cell_type": "raw",
   "id": "0dde9099-c90d-4651-9c93-c20d564921a3",
   "metadata": {},
   "source": [
    "#  What is if...elif...else in Python?\n",
    "ans--> The if...elif...else statement is used when you need to check multiple conditions. \n",
    "Python will execute the first true condition, and skip the rest."
   ]
  },
  {
   "cell_type": "code",
   "execution_count": null,
   "id": "35ca16b7-78f6-4f60-af2d-0b06639d803b",
   "metadata": {},
   "outputs": [],
   "source": [
    "# 1. Grading System"
   ]
  },
  {
   "cell_type": "code",
   "execution_count": 1,
   "id": "82cdd189-de48-496d-b5b0-3481c4ed9c44",
   "metadata": {},
   "outputs": [
    {
     "name": "stdout",
     "output_type": "stream",
     "text": [
      "Grade: C\n"
     ]
    }
   ],
   "source": [
    "\n",
    "marks = 72\n",
    "\n",
    "if marks >= 90:\n",
    "    print(\"Grade: A\")\n",
    "elif marks >= 75:\n",
    "    print(\"Grade: B\")\n",
    "elif marks >= 60:\n",
    "    print(\"Grade: C\")\n",
    "else:\n",
    "    print(\"Grade: F\")"
   ]
  },
  {
   "cell_type": "code",
   "execution_count": null,
   "id": "42936fc6-615f-46a2-ad8d-3136cc1f41ba",
   "metadata": {},
   "outputs": [],
   "source": [
    "# 2.Number Sign Checker"
   ]
  },
  {
   "cell_type": "code",
   "execution_count": 2,
   "id": "dbfc85f8-19db-40c8-921e-1a9fe4de8534",
   "metadata": {},
   "outputs": [
    {
     "name": "stdout",
     "output_type": "stream",
     "text": [
      "Negative number\n"
     ]
    }
   ],
   "source": [
    "num = -5\n",
    "\n",
    "if num > 0:\n",
    "    print(\"Positive number\")\n",
    "elif num < 0:\n",
    "    print(\"Negative number\")\n",
    "else:\n",
    "    print(\"Zero\")\n"
   ]
  },
  {
   "cell_type": "code",
   "execution_count": 3,
   "id": "b215291d-9475-41b2-b11a-3828964a4c90",
   "metadata": {},
   "outputs": [],
   "source": [
    "# 3.Time of Day"
   ]
  },
  {
   "cell_type": "code",
   "execution_count": 4,
   "id": "dfcc900e-2129-41dc-83e6-65a909a361e6",
   "metadata": {},
   "outputs": [
    {
     "name": "stdout",
     "output_type": "stream",
     "text": [
      "Good afternoon\n"
     ]
    }
   ],
   "source": [
    "hour = 14\n",
    "\n",
    "if hour < 12:\n",
    "    print(\"Good morning\")\n",
    "elif hour < 18:\n",
    "    print(\"Good afternoon\")\n",
    "else:\n",
    "    print(\"Good evening\")\n"
   ]
  },
  {
   "cell_type": "code",
   "execution_count": null,
   "id": "8405b82b-7ae6-44ba-b204-1d840810874f",
   "metadata": {},
   "outputs": [],
   "source": []
  }
 ],
 "metadata": {
  "kernelspec": {
   "display_name": "Python 3 (ipykernel)",
   "language": "python",
   "name": "python3"
  },
  "language_info": {
   "codemirror_mode": {
    "name": "ipython",
    "version": 3
   },
   "file_extension": ".py",
   "mimetype": "text/x-python",
   "name": "python",
   "nbconvert_exporter": "python",
   "pygments_lexer": "ipython3",
   "version": "3.12.7"
  }
 },
 "nbformat": 4,
 "nbformat_minor": 5
}
