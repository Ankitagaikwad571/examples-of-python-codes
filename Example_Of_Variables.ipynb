{
 "cells": [
  {
   "cell_type": "raw",
   "id": "88ba0359-7880-4a36-872d-dacb207b216f",
   "metadata": {},
   "source": [
    "Create a variable called age and store your age in it. Print the value.\n",
    "\n",
    "Create two variables num1 and num2. Store numbers and print their sum.\n",
    "\n",
    "Create a variable called city and store your city name in it. Print it.\n",
    "\n",
    "Try using a variable name that starts with a number. What happens?\n",
    "\n",
    "Is 'MyName' and 'myname' the same variable? Try printing both after assigning different values.\n",
    "\n",
    "What is wrong with this code?\n",
    "\n",
    "python\n",
    "Copy\n",
    "Edit\n",
    "for = 10\n",
    "Create a variable with an underscore, like student_name. Assign your name and print it.\n",
    "\n",
    "Change the value of a variable after assigning it. Print before and after.\n",
    "\n",
    "Try using a special character like @ in a variable name. Does it work?\n",
    "\n",
    "Create 3 variables: name, age, and city. Print them in one line using commas.\n",
    "\n",
    "\n"
   ]
  },
  {
   "cell_type": "markdown",
   "id": "fcf7d603-b624-489b-91ca-8ab6fa8bf64a",
   "metadata": {},
   "source": [
    "# Create a variable called age and store your age in it. Print the value."
   ]
  },
  {
   "cell_type": "code",
   "execution_count": 1,
   "id": "c3ccd707-8e77-45ad-8766-6ede1435b43f",
   "metadata": {},
   "outputs": [
    {
     "name": "stdout",
     "output_type": "stream",
     "text": [
      "28\n"
     ]
    }
   ],
   "source": [
    "age = 28\n",
    "print(age)"
   ]
  },
  {
   "cell_type": "markdown",
   "id": "f105e2c6-cd3e-4c60-ac4d-93197b1af367",
   "metadata": {},
   "source": [
    "# Create two variables num1 and num2. Store numbers and print their sum."
   ]
  },
  {
   "cell_type": "code",
   "execution_count": 2,
   "id": "6907b1df-fee8-427b-a003-eaf26a986fce",
   "metadata": {},
   "outputs": [
    {
     "name": "stdout",
     "output_type": "stream",
     "text": [
      "15\n"
     ]
    }
   ],
   "source": [
    "num1 = 10\n",
    "num2 = 5\n",
    "sum = num1+num2\n",
    "print(sum)"
   ]
  },
  {
   "cell_type": "markdown",
   "id": "d9d6cc5c-e89d-44f0-a5a0-1aef078a97d2",
   "metadata": {},
   "source": [
    "# Create a variable called city and store your city name in it. Print it."
   ]
  },
  {
   "cell_type": "code",
   "execution_count": 3,
   "id": "9f9b6998-63c7-410b-b841-2fc8b2c19e03",
   "metadata": {},
   "outputs": [
    {
     "name": "stdout",
     "output_type": "stream",
     "text": [
      "pune\n"
     ]
    }
   ],
   "source": [
    "city = \"pune\"\n",
    "print(city)"
   ]
  },
  {
   "cell_type": "markdown",
   "id": "72090dee-7292-4b1e-b727-75a33785978a",
   "metadata": {},
   "source": [
    "# Try using a variable name that starts with a number. What happens?"
   ]
  },
  {
   "cell_type": "code",
   "execution_count": 4,
   "id": "bb5b8355-3789-493a-bc67-e66a70c5c8da",
   "metadata": {},
   "outputs": [
    {
     "ename": "SyntaxError",
     "evalue": "invalid decimal literal (867085539.py, line 1)",
     "output_type": "error",
     "traceback": [
      "\u001b[1;36m  Cell \u001b[1;32mIn[4], line 1\u001b[1;36m\u001b[0m\n\u001b[1;33m    1num= 10\u001b[0m\n\u001b[1;37m    ^\u001b[0m\n\u001b[1;31mSyntaxError\u001b[0m\u001b[1;31m:\u001b[0m invalid decimal literal\n"
     ]
    }
   ],
   "source": [
    "1num= 10\n",
    "print(1num)"
   ]
  },
  {
   "cell_type": "markdown",
   "id": "2cfbfc27-ef80-4667-9f29-788dc9fa8588",
   "metadata": {},
   "source": [
    "# Is 'MyName' and 'myname' the same variable? Try printing both after assigning different values."
   ]
  },
  {
   "cell_type": "code",
   "execution_count": 5,
   "id": "dcbfbae1-3f6a-4cfd-a72e-5aa720feea51",
   "metadata": {},
   "outputs": [
    {
     "name": "stdout",
     "output_type": "stream",
     "text": [
      "ankita\n",
      "gaikwad\n"
     ]
    }
   ],
   "source": [
    "MyName = \"ankita\"\n",
    "myname = \"gaikwad\"\n",
    "print(MyName)\n",
    "print(myname)"
   ]
  },
  {
   "cell_type": "markdown",
   "id": "e0126b74-b7ba-407c-8ca2-e0cb5197ef13",
   "metadata": {},
   "source": [
    "# What is wrong with this code?"
   ]
  },
  {
   "cell_type": "code",
   "execution_count": 6,
   "id": "7d87f479-8bfc-4257-882c-72852c520990",
   "metadata": {},
   "outputs": [
    {
     "ename": "SyntaxError",
     "evalue": "invalid syntax (1549114973.py, line 1)",
     "output_type": "error",
     "traceback": [
      "\u001b[1;36m  Cell \u001b[1;32mIn[6], line 1\u001b[1;36m\u001b[0m\n\u001b[1;33m    for = 10\u001b[0m\n\u001b[1;37m        ^\u001b[0m\n\u001b[1;31mSyntaxError\u001b[0m\u001b[1;31m:\u001b[0m invalid syntax\n"
     ]
    }
   ],
   "source": [
    "for = 10"
   ]
  },
  {
   "cell_type": "markdown",
   "id": "d0e2c710-675d-432f-ab84-c4bc1a474d41",
   "metadata": {},
   "source": [
    "# Create a variable with an underscore, like student_name. Assign your name and print it."
   ]
  },
  {
   "cell_type": "code",
   "execution_count": 7,
   "id": "06928768-4e14-4868-9e53-205b73d611ee",
   "metadata": {},
   "outputs": [
    {
     "name": "stdout",
     "output_type": "stream",
     "text": [
      "ankita\n"
     ]
    }
   ],
   "source": [
    "student_name =\"ankita\"\n",
    "print(student_name)"
   ]
  },
  {
   "cell_type": "markdown",
   "id": "e8f99b6d-6d50-49ad-9b02-0e94d7c29ba2",
   "metadata": {},
   "source": [
    "# Change the value of a variable after assigning it. Print before and after."
   ]
  },
  {
   "cell_type": "code",
   "execution_count": 8,
   "id": "8dd9affe-00cb-4ad2-b64c-b9a240b6f0cf",
   "metadata": {},
   "outputs": [
    {
     "name": "stdout",
     "output_type": "stream",
     "text": [
      "before: 10\n",
      "after: 15\n"
     ]
    }
   ],
   "source": [
    "x = 10\n",
    "print(\"before:\", 10)\n",
    "\n",
    "x = 15\n",
    "print(\"after:\",15)"
   ]
  },
  {
   "cell_type": "markdown",
   "id": "da066830-850f-4bd4-8b95-d66fa2561bfb",
   "metadata": {},
   "source": [
    "# Try using a special character like @ in a variable name. Does it work?"
   ]
  },
  {
   "cell_type": "code",
   "execution_count": 9,
   "id": "230268a7-ba49-4184-bbdb-4b3870a196bd",
   "metadata": {},
   "outputs": [
    {
     "ename": "SyntaxError",
     "evalue": "invalid syntax. Maybe you meant '==' or ':=' instead of '='? (3485926694.py, line 1)",
     "output_type": "error",
     "traceback": [
      "\u001b[1;36m  Cell \u001b[1;32mIn[9], line 1\u001b[1;36m\u001b[0m\n\u001b[1;33m    @name = \"ankita\"\u001b[0m\n\u001b[1;37m     ^\u001b[0m\n\u001b[1;31mSyntaxError\u001b[0m\u001b[1;31m:\u001b[0m invalid syntax. Maybe you meant '==' or ':=' instead of '='?\n"
     ]
    }
   ],
   "source": [
    "@name = \"ankita\""
   ]
  },
  {
   "cell_type": "markdown",
   "id": "4bb55038-65f5-4e24-9109-c7500026834a",
   "metadata": {},
   "source": [
    "# Create 3 variables: name, age, and city. Print them in one line using commas."
   ]
  },
  {
   "cell_type": "code",
   "execution_count": 11,
   "id": "63b8cefc-1fbf-43a9-ae1d-52e59533adfc",
   "metadata": {},
   "outputs": [
    {
     "name": "stdout",
     "output_type": "stream",
     "text": [
      "ankita 28 solapur\n"
     ]
    }
   ],
   "source": [
    "name =\"ankita\"\n",
    "age = 28\n",
    "city = \"solapur\"\n",
    "print(name,age,city)"
   ]
  },
  {
   "cell_type": "code",
   "execution_count": null,
   "id": "4fd4a1f6-eced-4c5e-84af-72f7d69f1294",
   "metadata": {},
   "outputs": [],
   "source": []
  }
 ],
 "metadata": {
  "kernelspec": {
   "display_name": "Python 3 (ipykernel)",
   "language": "python",
   "name": "python3"
  },
  "language_info": {
   "codemirror_mode": {
    "name": "ipython",
    "version": 3
   },
   "file_extension": ".py",
   "mimetype": "text/x-python",
   "name": "python",
   "nbconvert_exporter": "python",
   "pygments_lexer": "ipython3",
   "version": "3.12.7"
  }
 },
 "nbformat": 4,
 "nbformat_minor": 5
}
