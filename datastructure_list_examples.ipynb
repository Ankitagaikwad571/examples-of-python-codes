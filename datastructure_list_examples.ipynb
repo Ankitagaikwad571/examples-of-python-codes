{
 "cells": [
  {
   "cell_type": "markdown",
   "id": "6a922dcc-5c7a-4ac3-adff-7d95bf616eee",
   "metadata": {},
   "source": [
    "# List"
   ]
  },
  {
   "cell_type": "raw",
   "id": "78b73a92-0798-452d-a655-4abee401d169",
   "metadata": {},
   "source": [
    "# what is list\n",
    "ans-> list is store multiple itemes in a single variables.\n",
    "      it is ordered, changeable, allowes duplicated values.\n",
    "      it is defined in a square brackets[]."
   ]
  },
  {
   "cell_type": "markdown",
   "id": "61340896-2f5b-4c21-936a-f66d7b0c9723",
   "metadata": {},
   "source": [
    "# Examples"
   ]
  },
  {
   "cell_type": "raw",
   "id": "d824e4fc-9f84-4675-a129-8dbc5890a87c",
   "metadata": {},
   "source": [
    "# 1.how do you create a list in python?"
   ]
  },
  {
   "cell_type": "code",
   "execution_count": 5,
   "id": "b726deb3-7e4d-4751-84e0-3c58f0017d9c",
   "metadata": {},
   "outputs": [],
   "source": [
    "a=[1,2,3,4,5]"
   ]
  },
  {
   "cell_type": "code",
   "execution_count": 6,
   "id": "89749fff-a964-4919-8c4f-c0f71226a362",
   "metadata": {},
   "outputs": [
    {
     "data": {
      "text/plain": [
       "[1, 2, 3, 4, 5]"
      ]
     },
     "execution_count": 6,
     "metadata": {},
     "output_type": "execute_result"
    }
   ],
   "source": [
    "a"
   ]
  },
  {
   "cell_type": "raw",
   "id": "6e139f6b-7840-4eff-861b-5329cb89c339",
   "metadata": {},
   "source": [
    "# 2. how tdo you access a list in python?"
   ]
  },
  {
   "cell_type": "code",
   "execution_count": 7,
   "id": "7761f942-185b-40c4-aead-b68085c58f21",
   "metadata": {},
   "outputs": [],
   "source": [
    "a=[1,2,3,4,5]"
   ]
  },
  {
   "cell_type": "code",
   "execution_count": 8,
   "id": "113b4460-7cf6-4def-bfcc-86b59c740134",
   "metadata": {},
   "outputs": [
    {
     "data": {
      "text/plain": [
       "1"
      ]
     },
     "execution_count": 8,
     "metadata": {},
     "output_type": "execute_result"
    }
   ],
   "source": [
    "a[0]"
   ]
  },
  {
   "cell_type": "raw",
   "id": "75d6fb33-1148-4e67-9840-0bed46f38659",
   "metadata": {},
   "source": [
    "# 3. how do you find out the length of list?"
   ]
  },
  {
   "cell_type": "code",
   "execution_count": 10,
   "id": "8eef68f5-7c8a-49af-b439-1399df0a4323",
   "metadata": {},
   "outputs": [
    {
     "data": {
      "text/plain": [
       "5"
      ]
     },
     "execution_count": 10,
     "metadata": {},
     "output_type": "execute_result"
    }
   ],
   "source": [
    "len(a)"
   ]
  },
  {
   "cell_type": "raw",
   "id": "8a7b4410-d08e-4b38-a4ab-c80bc78aca1a",
   "metadata": {},
   "source": [
    "# 4. how do you add element to the end of a list?"
   ]
  },
  {
   "cell_type": "code",
   "execution_count": 11,
   "id": "edfbc317-505d-47be-b8a4-0840edc686ae",
   "metadata": {},
   "outputs": [],
   "source": [
    "a.append(6)"
   ]
  },
  {
   "cell_type": "code",
   "execution_count": 12,
   "id": "8bd173be-d0f4-4997-ab2d-51b9f7c49d30",
   "metadata": {},
   "outputs": [
    {
     "data": {
      "text/plain": [
       "[1, 2, 3, 4, 5, 6]"
      ]
     },
     "execution_count": 12,
     "metadata": {},
     "output_type": "execute_result"
    }
   ],
   "source": [
    "a"
   ]
  },
  {
   "cell_type": "raw",
   "id": "b42465c4-92f1-4b07-a7bd-76bb5223b14d",
   "metadata": {},
   "source": [
    "# 5. how do you insert an item at specific index?"
   ]
  },
  {
   "cell_type": "code",
   "execution_count": 21,
   "id": "06c088c8-bc3a-49fd-9f28-2916fe8a6fbe",
   "metadata": {},
   "outputs": [],
   "source": [
    "a.insert(6,7)"
   ]
  },
  {
   "cell_type": "code",
   "execution_count": 23,
   "id": "9c305175-820c-4c53-874b-c09d52d1f1c7",
   "metadata": {},
   "outputs": [
    {
     "data": {
      "text/plain": [
       "[1, 2, 3, 4, 5, 6, 7]"
      ]
     },
     "execution_count": 23,
     "metadata": {},
     "output_type": "execute_result"
    }
   ],
   "source": [
    "a"
   ]
  },
  {
   "cell_type": "code",
   "execution_count": null,
   "id": "58e5b31d-8f05-43f0-a4f7-73c9dd4aacdc",
   "metadata": {},
   "outputs": [],
   "source": []
  }
 ],
 "metadata": {
  "kernelspec": {
   "display_name": "Python 3 (ipykernel)",
   "language": "python",
   "name": "python3"
  },
  "language_info": {
   "codemirror_mode": {
    "name": "ipython",
    "version": 3
   },
   "file_extension": ".py",
   "mimetype": "text/x-python",
   "name": "python",
   "nbconvert_exporter": "python",
   "pygments_lexer": "ipython3",
   "version": "3.12.7"
  }
 },
 "nbformat": 4,
 "nbformat_minor": 5
}
