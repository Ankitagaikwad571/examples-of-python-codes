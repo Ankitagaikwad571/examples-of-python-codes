{
 "cells": [
  {
   "cell_type": "code",
   "execution_count": 1,
   "id": "116e37b5-feae-448f-b021-a3629620e1e7",
   "metadata": {},
   "outputs": [],
   "source": [
    "# what is if......else?\n",
    "#ans--> run s one block if the condition is true,another if flase."
   ]
  },
  {
   "cell_type": "code",
   "execution_count": 2,
   "id": "6eec957c-1df8-4448-bde1-d7d700792e9a",
   "metadata": {},
   "outputs": [],
   "source": [
    "# 1. check voting eligibility ?"
   ]
  },
  {
   "cell_type": "code",
   "execution_count": 5,
   "id": "a78b43a1-5db9-4b47-8f37-2de49469f86e",
   "metadata": {},
   "outputs": [
    {
     "name": "stdout",
     "output_type": "stream",
     "text": [
      "you are  not eligibl for voting\n"
     ]
    }
   ],
   "source": [
    "age=12\n",
    "if age>=18:\n",
    "    print(\"you are eligibl for voting\")\n",
    "else:\n",
    "    print(\"you are  not eligibl for voting\")"
   ]
  },
  {
   "cell_type": "code",
   "execution_count": 6,
   "id": "fa44992a-5078-408e-bb54-eeb78a9520a3",
   "metadata": {},
   "outputs": [],
   "source": [
    "# 2. check if number is even or odd?"
   ]
  },
  {
   "cell_type": "code",
   "execution_count": 11,
   "id": "41cc3cfd-6154-4713-9bb0-35c4ecc31742",
   "metadata": {},
   "outputs": [
    {
     "name": "stdout",
     "output_type": "stream",
     "text": [
      "numer is even\n"
     ]
    }
   ],
   "source": [
    "num=2\n",
    "if num%2==0:\n",
    "    print(\"numer is even\")\n",
    "else:\n",
    "    print(\"numer is odd\")"
   ]
  },
  {
   "cell_type": "code",
   "execution_count": null,
   "id": "04b01817-7205-4224-8e86-214b50d733cc",
   "metadata": {},
   "outputs": [],
   "source": [
    "# 3.Check if a string is empty?"
   ]
  },
  {
   "cell_type": "code",
   "execution_count": 14,
   "id": "4aceb6d1-b5f4-46f3-85ef-357db72d7589",
   "metadata": {},
   "outputs": [
    {
     "name": "stdout",
     "output_type": "stream",
     "text": [
      "name is empty\n"
     ]
    }
   ],
   "source": [
    "name=\"\"\n",
    "if name==\"\":\n",
    "    print(\"name is empty\")\n",
    "else:\n",
    "    print(\"name is not empty\")"
   ]
  },
  {
   "cell_type": "code",
   "execution_count": 15,
   "id": "5163b9cf-d890-46f5-8f92-502b62814067",
   "metadata": {},
   "outputs": [],
   "source": [
    "# 4. check pass or fail"
   ]
  },
  {
   "cell_type": "code",
   "execution_count": 20,
   "id": "a3f8e653-4635-4401-a3d6-6e7eb1c29b2b",
   "metadata": {},
   "outputs": [
    {
     "name": "stdout",
     "output_type": "stream",
     "text": [
      "fail\n"
     ]
    }
   ],
   "source": [
    "mark=33\n",
    "if mark>=35:\n",
    "    print(\"pass\")\n",
    "else:\n",
    "    print(\"fail\")"
   ]
  },
  {
   "cell_type": "code",
   "execution_count": null,
   "id": "31449e30-f4b8-4f51-9214-24a50f78f6e4",
   "metadata": {},
   "outputs": [],
   "source": []
  }
 ],
 "metadata": {
  "kernelspec": {
   "display_name": "Python 3 (ipykernel)",
   "language": "python",
   "name": "python3"
  },
  "language_info": {
   "codemirror_mode": {
    "name": "ipython",
    "version": 3
   },
   "file_extension": ".py",
   "mimetype": "text/x-python",
   "name": "python",
   "nbconvert_exporter": "python",
   "pygments_lexer": "ipython3",
   "version": "3.12.7"
  }
 },
 "nbformat": 4,
 "nbformat_minor": 5
}
