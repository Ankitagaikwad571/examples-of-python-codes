{
 "cells": [
  {
   "cell_type": "markdown",
   "id": "7d301958-e3db-4526-ab6e-3bfe515086cf",
   "metadata": {},
   "source": [
    "# same examples of type casting in python"
   ]
  },
  {
   "cell_type": "raw",
   "id": "7062dff4-76e9-4fd2-a1e9-4b07aaf5f4c0",
   "metadata": {},
   "source": [
    "# 1.how do you converting string into the integer?"
   ]
  },
  {
   "cell_type": "code",
   "execution_count": 3,
   "id": "19c02088-e83b-4913-956c-7d29a837da69",
   "metadata": {},
   "outputs": [
    {
     "name": "stdout",
     "output_type": "stream",
     "text": [
      "100\n"
     ]
    }
   ],
   "source": [
    "x= \"100\"\n",
    "y=int(x)\n",
    "print(y)"
   ]
  },
  {
   "cell_type": "code",
   "execution_count": 5,
   "id": "34f34798-4cb0-4838-b425-7df623e25ff1",
   "metadata": {},
   "outputs": [
    {
     "name": "stdout",
     "output_type": "stream",
     "text": [
      "89\n"
     ]
    }
   ],
   "source": [
    "b=\"89\"\n",
    "c=int(b)\n",
    "print(c)"
   ]
  },
  {
   "cell_type": "code",
   "execution_count": 7,
   "id": "df4a5d66-4ef7-4d18-b2d3-85a286e6facc",
   "metadata": {},
   "outputs": [
    {
     "name": "stdout",
     "output_type": "stream",
     "text": [
      "2\n"
     ]
    }
   ],
   "source": [
    "a=\"2\"\n",
    "b=int(a)\n",
    "print(b)"
   ]
  },
  {
   "cell_type": "code",
   "execution_count": 9,
   "id": "4c7703f2-47d6-4026-8137-29546b931ccf",
   "metadata": {},
   "outputs": [
    {
     "name": "stdout",
     "output_type": "stream",
     "text": [
      "88\n"
     ]
    }
   ],
   "source": [
    "s=\"88\"\n",
    "y=int(s)\n",
    "print(y)"
   ]
  },
  {
   "cell_type": "code",
   "execution_count": 11,
   "id": "e908f19a-8f3f-41d4-bc7e-0dca34458717",
   "metadata": {},
   "outputs": [
    {
     "name": "stdout",
     "output_type": "stream",
     "text": [
      "77\n"
     ]
    }
   ],
   "source": [
    "a=\"77\"\n",
    "b=int(a)\n",
    "print(b)"
   ]
  },
  {
   "cell_type": "raw",
   "id": "07216190-9153-4be8-a227-03198b6dd71d",
   "metadata": {},
   "source": [
    "#2.how to change intger into the float?"
   ]
  },
  {
   "cell_type": "code",
   "execution_count": 13,
   "id": "d1c8d38b-3bd1-4a6c-879a-9858b52ec69e",
   "metadata": {},
   "outputs": [
    {
     "name": "stdout",
     "output_type": "stream",
     "text": [
      "1.0\n"
     ]
    }
   ],
   "source": [
    "a=1\n",
    "b=float(a)\n",
    "print(b)"
   ]
  },
  {
   "cell_type": "code",
   "execution_count": 15,
   "id": "c24e3eb0-0933-4bf3-a6d2-e7310e31b789",
   "metadata": {},
   "outputs": [
    {
     "name": "stdout",
     "output_type": "stream",
     "text": [
      "34.0\n"
     ]
    }
   ],
   "source": [
    "x=34\n",
    "y=float(x)\n",
    "print(y)"
   ]
  },
  {
   "cell_type": "code",
   "execution_count": 17,
   "id": "db86219f-6d6f-41e7-ad98-1efde2af94c4",
   "metadata": {},
   "outputs": [
    {
     "name": "stdout",
     "output_type": "stream",
     "text": [
      "54.0\n"
     ]
    }
   ],
   "source": [
    "c=54\n",
    "d=float(c)\n",
    "print(d)"
   ]
  },
  {
   "cell_type": "code",
   "execution_count": 19,
   "id": "e4f99a58-f895-4c1b-b141-4a2359511a2c",
   "metadata": {},
   "outputs": [
    {
     "name": "stdout",
     "output_type": "stream",
     "text": [
      "89.0\n"
     ]
    }
   ],
   "source": [
    "s=89\n",
    "m=float(s)\n",
    "print(m)"
   ]
  },
  {
   "cell_type": "code",
   "execution_count": 21,
   "id": "48846b61-6570-40d1-bd11-aacc7ddaba49",
   "metadata": {},
   "outputs": [
    {
     "name": "stdout",
     "output_type": "stream",
     "text": [
      "90.0\n"
     ]
    }
   ],
   "source": [
    "a=90\n",
    "b=float(a)\n",
    "print(b)"
   ]
  },
  {
   "cell_type": "raw",
   "id": "f459bc98-6016-48e0-a202-7448395c97c9",
   "metadata": {},
   "source": [
    " #3.how to change float to intger?"
   ]
  },
  {
   "cell_type": "code",
   "execution_count": 23,
   "id": "4785b179-3b4c-4567-842c-823830b926f8",
   "metadata": {},
   "outputs": [
    {
     "name": "stdout",
     "output_type": "stream",
     "text": [
      "90\n"
     ]
    }
   ],
   "source": [
    "x=90.00\n",
    "y=int(x)\n",
    "print(y)"
   ]
  },
  {
   "cell_type": "code",
   "execution_count": 25,
   "id": "8eca4a3f-f4ef-43bc-b268-8b7d4fe2ffdd",
   "metadata": {},
   "outputs": [
    {
     "name": "stdout",
     "output_type": "stream",
     "text": [
      "34\n"
     ]
    }
   ],
   "source": [
    "a=34.67\n",
    "b=int(a)\n",
    "print(b)"
   ]
  },
  {
   "cell_type": "code",
   "execution_count": 27,
   "id": "13ab3022-bb2d-43fd-96f4-92aad5cd6a89",
   "metadata": {},
   "outputs": [
    {
     "name": "stdout",
     "output_type": "stream",
     "text": [
      "78\n"
     ]
    }
   ],
   "source": [
    "a=78.90\n",
    "b=int(a)\n",
    "print(b)"
   ]
  },
  {
   "cell_type": "code",
   "execution_count": 29,
   "id": "f145a33c-7fd1-4404-afda-cfeb39126c6c",
   "metadata": {},
   "outputs": [
    {
     "name": "stdout",
     "output_type": "stream",
     "text": [
      "75\n"
     ]
    }
   ],
   "source": [
    "w=75.90\n",
    "q=int(w)\n",
    "print(q)"
   ]
  },
  {
   "cell_type": "code",
   "execution_count": 31,
   "id": "c84e3d85-a4d7-49d9-bb4d-82a9aa1b84f3",
   "metadata": {},
   "outputs": [
    {
     "name": "stdout",
     "output_type": "stream",
     "text": [
      "21\n"
     ]
    }
   ],
   "source": [
    "e=21.90\n",
    "w=int(e)\n",
    "print(w)"
   ]
  },
  {
   "cell_type": "raw",
   "id": "ddeedce4-6299-4727-8789-7d7a89213b0c",
   "metadata": {},
   "source": [
    "#4.how to change number to string?"
   ]
  },
  {
   "cell_type": "code",
   "execution_count": 2,
   "id": "1ee0d9b4-887f-439d-a4af-4854ee2adc0d",
   "metadata": {},
   "outputs": [
    {
     "name": "stdout",
     "output_type": "stream",
     "text": [
      "8\n"
     ]
    }
   ],
   "source": [
    "x=8\n",
    "y=str(x)\n",
    "print(y)"
   ]
  },
  {
   "cell_type": "markdown",
   "id": "8ab274c1-417d-4205-93c3-6944a9fda8f6",
   "metadata": {},
   "source": [
    "# what is concatenation in python?"
   ]
  },
  {
   "cell_type": "code",
   "execution_count": null,
   "id": "435d0963-82ee-494d-bf14-a537e426b98d",
   "metadata": {},
   "outputs": [],
   "source": [
    "\n"
   ]
  }
 ],
 "metadata": {
  "kernelspec": {
   "display_name": "Python 3 (ipykernel)",
   "language": "python",
   "name": "python3"
  },
  "language_info": {
   "codemirror_mode": {
    "name": "ipython",
    "version": 3
   },
   "file_extension": ".py",
   "mimetype": "text/x-python",
   "name": "python",
   "nbconvert_exporter": "python",
   "pygments_lexer": "ipython3",
   "version": "3.12.7"
  }
 },
 "nbformat": 4,
 "nbformat_minor": 5
}
