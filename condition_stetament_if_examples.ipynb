{
 "cells": [
  {
   "cell_type": "code",
   "execution_count": 1,
   "id": "61c8fae0-98f8-48d0-a607-b60b1f72eef0",
   "metadata": {},
   "outputs": [],
   "source": [
    "# what is conditional statement in python?\n",
    "# ans--> conditional statement used to make a decisions in your code."
   ]
  },
  {
   "cell_type": "code",
   "execution_count": 2,
   "id": "ee09675e-1cfc-49ac-8850-ff6a001a060a",
   "metadata": {},
   "outputs": [],
   "source": [
    "# Type of conditions Statement\n",
    "# 1. if statement.\n",
    "    # if the conditional is true the conde inside the if block wiil run."
   ]
  },
  {
   "cell_type": "code",
   "execution_count": 3,
   "id": "709151c3-ee6d-4928-bc1c-62ee5406f213",
   "metadata": {},
   "outputs": [],
   "source": [
    "# Examples \n",
    "# 1. Check if a number is positive?"
   ]
  },
  {
   "cell_type": "code",
   "execution_count": 7,
   "id": "9efb4c4e-ba6f-46ab-a2fd-38891110e998",
   "metadata": {},
   "outputs": [
    {
     "name": "stdout",
     "output_type": "stream",
     "text": [
      "the number is positive\n"
     ]
    }
   ],
   "source": [
    "num=1\n",
    "if num>0:\n",
    "    print(\"the number is positive\")"
   ]
  },
  {
   "cell_type": "code",
   "execution_count": 8,
   "id": "0acf1b20-f276-4b7d-b12e-9eed40b17f7a",
   "metadata": {},
   "outputs": [],
   "source": [
    "# 2. Check if two number are equal?"
   ]
  },
  {
   "cell_type": "code",
   "execution_count": 9,
   "id": "d450dcb0-8f63-44c0-97ee-7ca28fc70672",
   "metadata": {},
   "outputs": [
    {
     "name": "stdout",
     "output_type": "stream",
     "text": [
      "both are equal numbers\n"
     ]
    }
   ],
   "source": [
    "a=10\n",
    "b=10\n",
    "if a==b:\n",
    "    print(\"both are equal numbers\")"
   ]
  },
  {
   "cell_type": "code",
   "execution_count": 11,
   "id": "a1712df9-4ce4-461d-8650-329995a5e3fa",
   "metadata": {},
   "outputs": [],
   "source": [
    "# 3. Check is a number is even?"
   ]
  },
  {
   "cell_type": "code",
   "execution_count": 15,
   "id": "d9762164-f5b8-4691-85cc-4b118c09e569",
   "metadata": {},
   "outputs": [
    {
     "name": "stdout",
     "output_type": "stream",
     "text": [
      "number is even\n"
     ]
    }
   ],
   "source": [
    "num=4\n",
    "if num%2==0:\n",
    " print(\"number is even\")"
   ]
  },
  {
   "cell_type": "code",
   "execution_count": 16,
   "id": "9fad2285-b7c9-45a0-bd46-bbee4eae96cf",
   "metadata": {},
   "outputs": [],
   "source": [
    "# 4.Check if a string is empty?"
   ]
  },
  {
   "cell_type": "code",
   "execution_count": 18,
   "id": "7e35a85d-aa8b-471f-a80f-a1fa5d77d1fd",
   "metadata": {},
   "outputs": [
    {
     "name": "stdout",
     "output_type": "stream",
     "text": [
      "name is empty\n"
     ]
    }
   ],
   "source": [
    "name=\"\"\n",
    "if name==\"\":\n",
    "    print(\"name is empty\")"
   ]
  },
  {
   "cell_type": "code",
   "execution_count": 19,
   "id": "8c0f206c-0fdd-47fc-a5fe-d12f2b4c9db7",
   "metadata": {},
   "outputs": [],
   "source": [
    "# 5. Check if a person is a teenager?"
   ]
  },
  {
   "cell_type": "code",
   "execution_count": 20,
   "id": "6ee3d5b6-2952-4eb4-9016-caf59ee2a4da",
   "metadata": {},
   "outputs": [
    {
     "name": "stdout",
     "output_type": "stream",
     "text": [
      "person is teenager\n"
     ]
    }
   ],
   "source": [
    "age= 15\n",
    "if age>13 and age<=19:\n",
    "    print(\"person is teenager\")"
   ]
  },
  {
   "cell_type": "code",
   "execution_count": 21,
   "id": "fbefe98e-8315-4062-9200-78352f6f2c71",
   "metadata": {},
   "outputs": [],
   "source": [
    "# 6. Check if a character is a vowel?"
   ]
  },
  {
   "cell_type": "code",
   "execution_count": 22,
   "id": "dd22ee12-1cbe-4cef-9c1f-d7b158eaff67",
   "metadata": {},
   "outputs": [
    {
     "name": "stdout",
     "output_type": "stream",
     "text": [
      "it is a vowel\n"
     ]
    }
   ],
   "source": [
    "char='a'\n",
    "if char in ['a','i','e','o','u']:\n",
    "    print(\"it is a vowel\")"
   ]
  },
  {
   "cell_type": "code",
   "execution_count": 23,
   "id": "2459914c-b079-484a-bea5-90b96debc0cf",
   "metadata": {},
   "outputs": [],
   "source": [
    "# 7. Check if number is in range"
   ]
  },
  {
   "cell_type": "code",
   "execution_count": 24,
   "id": "673bf135-e233-46de-82b1-1654b25d5ae5",
   "metadata": {},
   "outputs": [
    {
     "name": "stdout",
     "output_type": "stream",
     "text": [
      "number is between 1 and 10\n"
     ]
    }
   ],
   "source": [
    "num=7\n",
    "if 1<= num<=10:\n",
    "    print(\"number is between 1 and 10\")"
   ]
  },
  {
   "cell_type": "code",
   "execution_count": null,
   "id": "fdc5ce8a-43ed-440f-8ff9-c87956d3aa4e",
   "metadata": {},
   "outputs": [],
   "source": []
  }
 ],
 "metadata": {
  "kernelspec": {
   "display_name": "Python 3 (ipykernel)",
   "language": "python",
   "name": "python3"
  },
  "language_info": {
   "codemirror_mode": {
    "name": "ipython",
    "version": 3
   },
   "file_extension": ".py",
   "mimetype": "text/x-python",
   "name": "python",
   "nbconvert_exporter": "python",
   "pygments_lexer": "ipython3",
   "version": "3.12.7"
  }
 },
 "nbformat": 4,
 "nbformat_minor": 5
}
