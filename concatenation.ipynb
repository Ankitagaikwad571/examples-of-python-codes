{
 "cells": [
  {
   "cell_type": "markdown",
   "id": "ad0290b3-9154-40aa-a002-fb864279f675",
   "metadata": {},
   "source": [
    "# what is concatenation in python?\n",
    "it means joining string together using the + operating/operator."
   ]
  },
  {
   "cell_type": "code",
   "execution_count": 2,
   "id": "cfa23ac4-0dc2-422d-a3dd-ebe3b6825b50",
   "metadata": {},
   "outputs": [
    {
     "name": "stdout",
     "output_type": "stream",
     "text": [
      " Hello World\n"
     ]
    }
   ],
   "source": [
    "a = \" Hello\"\n",
    "b = \"World\"\n",
    "print(a+ \" \" +b)"
   ]
  },
  {
   "cell_type": "markdown",
   "id": "d72e893e-f135-4f75-967c-4a6f50b41ed0",
   "metadata": {},
   "source": [
    "# how to concatenate string withe new line?"
   ]
  },
  {
   "cell_type": "code",
   "execution_count": 5,
   "id": "805dc9c2-0c32-4587-a48b-17e2955f48bd",
   "metadata": {},
   "outputs": [
    {
     "name": "stdout",
     "output_type": "stream",
     "text": [
      "newline1 \n",
      "newline2\n"
     ]
    }
   ],
   "source": [
    "a = \"newline1\"\n",
    "b = \"newline2\"\n",
    "print(a+ \" \\n\" +b)"
   ]
  },
  {
   "cell_type": "markdown",
   "id": "64b9229f-0a47-4c8b-96bc-9a7878d63e90",
   "metadata": {},
   "source": [
    "# can you repeat string using concatenation"
   ]
  },
  {
   "cell_type": "markdown",
   "id": "baabb227-ba19-4a3a-b296-722a1dc800f4",
   "metadata": {},
   "source": [
    "# yes "
   ]
  },
  {
   "cell_type": "code",
   "execution_count": 11,
   "id": "590a8249-f133-4f4b-b9bd-30f856b32b86",
   "metadata": {},
   "outputs": [
    {
     "name": "stdout",
     "output_type": "stream",
     "text": [
      "hihihi\n"
     ]
    }
   ],
   "source": [
    "a = \"hi\"\n",
    "print(a * 3)"
   ]
  },
  {
   "cell_type": "code",
   "execution_count": null,
   "id": "38af764f-d792-4c19-af6c-39e721d66738",
   "metadata": {},
   "outputs": [],
   "source": []
  }
 ],
 "metadata": {
  "kernelspec": {
   "display_name": "Python 3 (ipykernel)",
   "language": "python",
   "name": "python3"
  },
  "language_info": {
   "codemirror_mode": {
    "name": "ipython",
    "version": 3
   },
   "file_extension": ".py",
   "mimetype": "text/x-python",
   "name": "python",
   "nbconvert_exporter": "python",
   "pygments_lexer": "ipython3",
   "version": "3.12.7"
  }
 },
 "nbformat": 4,
 "nbformat_minor": 5
}
