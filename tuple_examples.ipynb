{
 "cells": [
  {
   "cell_type": "code",
   "execution_count": 1,
   "id": "2ce59ec9-2e84-449a-8d71-f82a7191b259",
   "metadata": {},
   "outputs": [],
   "source": [
    "# how do you creat a tuple?"
   ]
  },
  {
   "cell_type": "code",
   "execution_count": 2,
   "id": "cff3bf1b-e835-4ad1-8b2a-83f63a55425c",
   "metadata": {},
   "outputs": [],
   "source": [
    "a=(1,2,3,4,5)"
   ]
  },
  {
   "cell_type": "code",
   "execution_count": 3,
   "id": "f01a7d33-d603-4bd7-8840-15e195865015",
   "metadata": {},
   "outputs": [
    {
     "data": {
      "text/plain": [
       "(1, 2, 3, 4, 5)"
      ]
     },
     "execution_count": 3,
     "metadata": {},
     "output_type": "execute_result"
    }
   ],
   "source": [
    "a"
   ]
  },
  {
   "cell_type": "code",
   "execution_count": 4,
   "id": "16765777-5ada-446b-8b08-2cdb0a3e4556",
   "metadata": {},
   "outputs": [],
   "source": [
    "# how do you access tuple elementes?"
   ]
  },
  {
   "cell_type": "code",
   "execution_count": 5,
   "id": "f56b1305-9774-436e-84ef-a632abc56b1b",
   "metadata": {},
   "outputs": [
    {
     "data": {
      "text/plain": [
       "4"
      ]
     },
     "execution_count": 5,
     "metadata": {},
     "output_type": "execute_result"
    }
   ],
   "source": [
    "a[3]"
   ]
  },
  {
   "cell_type": "code",
   "execution_count": 6,
   "id": "ba95a6bd-c6b0-4a1e-acda-9715f85b095f",
   "metadata": {},
   "outputs": [],
   "source": [
    "# how do you count function using in the tuple?"
   ]
  },
  {
   "cell_type": "code",
   "execution_count": 7,
   "id": "795b41d3-07ab-48f3-a2c2-fc40a0ff75d3",
   "metadata": {},
   "outputs": [],
   "source": [
    "a=(1,2,3,2,4,2,5)"
   ]
  },
  {
   "cell_type": "code",
   "execution_count": 8,
   "id": "31288211-7c5d-47a1-a897-dc9b5b871332",
   "metadata": {},
   "outputs": [
    {
     "data": {
      "text/plain": [
       "3"
      ]
     },
     "execution_count": 8,
     "metadata": {},
     "output_type": "execute_result"
    }
   ],
   "source": [
    "a.count(2)"
   ]
  },
  {
   "cell_type": "code",
   "execution_count": 9,
   "id": "b1aaf107-0014-4036-a3f2-15abd1f24884",
   "metadata": {},
   "outputs": [],
   "source": [
    "#how do you finding the index postion?"
   ]
  },
  {
   "cell_type": "code",
   "execution_count": 10,
   "id": "0d378f58-c8b1-4646-b2f0-732864eb9cf9",
   "metadata": {},
   "outputs": [
    {
     "data": {
      "text/plain": [
       "2"
      ]
     },
     "execution_count": 10,
     "metadata": {},
     "output_type": "execute_result"
    }
   ],
   "source": [
    "a.index(3)"
   ]
  },
  {
   "cell_type": "code",
   "execution_count": 11,
   "id": "3bfb8a77-f83c-48ca-8040-65bf8a6b8e27",
   "metadata": {},
   "outputs": [
    {
     "data": {
      "text/plain": [
       "0"
      ]
     },
     "execution_count": 11,
     "metadata": {},
     "output_type": "execute_result"
    }
   ],
   "source": [
    "a.index(1)"
   ]
  },
  {
   "cell_type": "code",
   "execution_count": 12,
   "id": "c04b54ec-8bae-4a03-99ac-884d370455ea",
   "metadata": {},
   "outputs": [],
   "source": [
    "# how do you count the tuple Length?"
   ]
  },
  {
   "cell_type": "code",
   "execution_count": 15,
   "id": "4559b4e1-d269-4d61-93e1-1c887f83bdbf",
   "metadata": {},
   "outputs": [
    {
     "data": {
      "text/plain": [
       "(1, 2, 3, 2, 4, 2, 5)"
      ]
     },
     "execution_count": 15,
     "metadata": {},
     "output_type": "execute_result"
    }
   ],
   "source": [
    "a"
   ]
  },
  {
   "cell_type": "code",
   "execution_count": 16,
   "id": "dce07def-10fd-479f-970e-9ecef76776e8",
   "metadata": {},
   "outputs": [
    {
     "data": {
      "text/plain": [
       "7"
      ]
     },
     "execution_count": 16,
     "metadata": {},
     "output_type": "execute_result"
    }
   ],
   "source": [
    "len(a)"
   ]
  },
  {
   "cell_type": "code",
   "execution_count": 17,
   "id": "ca831ff9-522a-4485-8b18-2758929c89ab",
   "metadata": {},
   "outputs": [],
   "source": [
    "# how do you use sort function in tuple?"
   ]
  },
  {
   "cell_type": "code",
   "execution_count": 18,
   "id": "8d3efb4b-c793-4df4-be06-23ab58a0e93e",
   "metadata": {},
   "outputs": [
    {
     "data": {
      "text/plain": [
       "[1, 2, 2, 2, 3, 4, 5]"
      ]
     },
     "execution_count": 18,
     "metadata": {},
     "output_type": "execute_result"
    }
   ],
   "source": [
    "sorted(a)"
   ]
  },
  {
   "cell_type": "code",
   "execution_count": null,
   "id": "5dc1bd54-b734-439e-a5e4-71db3b5b06fd",
   "metadata": {},
   "outputs": [],
   "source": []
  }
 ],
 "metadata": {
  "kernelspec": {
   "display_name": "Python 3 (ipykernel)",
   "language": "python",
   "name": "python3"
  },
  "language_info": {
   "codemirror_mode": {
    "name": "ipython",
    "version": 3
   },
   "file_extension": ".py",
   "mimetype": "text/x-python",
   "name": "python",
   "nbconvert_exporter": "python",
   "pygments_lexer": "ipython3",
   "version": "3.12.7"
  }
 },
 "nbformat": 4,
 "nbformat_minor": 5
}
