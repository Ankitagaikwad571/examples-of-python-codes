{
 "cells": [
  {
   "cell_type": "code",
   "execution_count": 1,
   "id": "0a1fcd0e-9b2f-4ab1-b82a-51405a6718c0",
   "metadata": {},
   "outputs": [],
   "source": [
    "# how do you create set?"
   ]
  },
  {
   "cell_type": "code",
   "execution_count": 2,
   "id": "7a9e9766-790d-4fd7-99e3-830431b7efe3",
   "metadata": {},
   "outputs": [],
   "source": [
    "a={1,2,3}"
   ]
  },
  {
   "cell_type": "code",
   "execution_count": 3,
   "id": "a96fa8fd-58dd-4374-a26f-b5e0da1ebe53",
   "metadata": {},
   "outputs": [
    {
     "data": {
      "text/plain": [
       "{1, 2, 3}"
      ]
     },
     "execution_count": 3,
     "metadata": {},
     "output_type": "execute_result"
    }
   ],
   "source": [
    "a"
   ]
  },
  {
   "cell_type": "code",
   "execution_count": 4,
   "id": "32b5cd14-8d8b-47fd-86e4-390497eebcfd",
   "metadata": {},
   "outputs": [],
   "source": [
    "# how do you sort the set?"
   ]
  },
  {
   "cell_type": "code",
   "execution_count": 5,
   "id": "10451991-2f01-4189-be9b-438913d25900",
   "metadata": {},
   "outputs": [],
   "source": [
    "a={9,8,7,6,5,4,3,2,1}"
   ]
  },
  {
   "cell_type": "code",
   "execution_count": 6,
   "id": "f12a6307-13fc-4ee4-956f-bcba32a345ae",
   "metadata": {},
   "outputs": [
    {
     "data": {
      "text/plain": [
       "[1, 2, 3, 4, 5, 6, 7, 8, 9]"
      ]
     },
     "execution_count": 6,
     "metadata": {},
     "output_type": "execute_result"
    }
   ],
   "source": [
    "sorted(a)"
   ]
  },
  {
   "cell_type": "code",
   "execution_count": 7,
   "id": "4861b2b5-8b16-4ee3-82e0-6b372213c3d3",
   "metadata": {},
   "outputs": [],
   "source": [
    "# how do you add items to a set"
   ]
  },
  {
   "cell_type": "code",
   "execution_count": 8,
   "id": "a94cc14d-d488-4ec7-8b78-a495c1670fc6",
   "metadata": {},
   "outputs": [],
   "source": [
    "a.add(10)"
   ]
  },
  {
   "cell_type": "code",
   "execution_count": 9,
   "id": "079e5da1-4a84-4a9f-93c1-6a525bb346f8",
   "metadata": {},
   "outputs": [
    {
     "data": {
      "text/plain": [
       "{1, 2, 3, 4, 5, 6, 7, 8, 9, 10}"
      ]
     },
     "execution_count": 9,
     "metadata": {},
     "output_type": "execute_result"
    }
   ],
   "source": [
    "a"
   ]
  },
  {
   "cell_type": "code",
   "execution_count": 10,
   "id": "6f449e0c-34da-490c-abc5-6b37deaa6bd5",
   "metadata": {},
   "outputs": [],
   "source": [
    "# how do you remove element in set?"
   ]
  },
  {
   "cell_type": "code",
   "execution_count": 11,
   "id": "61244a79-cc5b-445e-83ca-476cec852532",
   "metadata": {},
   "outputs": [],
   "source": [
    "a.remove(4)"
   ]
  },
  {
   "cell_type": "code",
   "execution_count": 12,
   "id": "078d8303-08e7-4f84-a0d3-247cba6e253d",
   "metadata": {},
   "outputs": [
    {
     "data": {
      "text/plain": [
       "{1, 2, 3, 5, 6, 7, 8, 9, 10}"
      ]
     },
     "execution_count": 12,
     "metadata": {},
     "output_type": "execute_result"
    }
   ],
   "source": [
    "a"
   ]
  },
  {
   "cell_type": "code",
   "execution_count": 13,
   "id": "f49aa6be-206c-4800-afde-50e20cbe2bb6",
   "metadata": {},
   "outputs": [],
   "source": [
    "a.remove(2)"
   ]
  },
  {
   "cell_type": "code",
   "execution_count": 14,
   "id": "a05a478f-8945-4e2e-9479-6ddceec07c33",
   "metadata": {},
   "outputs": [
    {
     "data": {
      "text/plain": [
       "{1, 3, 5, 6, 7, 8, 9, 10}"
      ]
     },
     "execution_count": 14,
     "metadata": {},
     "output_type": "execute_result"
    }
   ],
   "source": [
    "a"
   ]
  },
  {
   "cell_type": "code",
   "execution_count": 17,
   "id": "29fe1966-f86f-42ce-bafb-75767ee1e092",
   "metadata": {},
   "outputs": [],
   "source": [
    "# how do you use union operation?"
   ]
  },
  {
   "cell_type": "code",
   "execution_count": 26,
   "id": "867c7244-a203-470d-b560-24c00fc17103",
   "metadata": {},
   "outputs": [],
   "source": [
    "a={1,2,3,4}\n",
    "b={5,6,7,8}"
   ]
  },
  {
   "cell_type": "code",
   "execution_count": 27,
   "id": "2fe6766a-dd39-49f0-a811-4589989d83c0",
   "metadata": {},
   "outputs": [
    {
     "data": {
      "text/plain": [
       "{1, 2, 3, 4, 5, 6, 7, 8}"
      ]
     },
     "execution_count": 27,
     "metadata": {},
     "output_type": "execute_result"
    }
   ],
   "source": [
    "a.union(b)"
   ]
  },
  {
   "cell_type": "code",
   "execution_count": 33,
   "id": "c9be646f-c2be-4f0e-b651-3ad950798e5d",
   "metadata": {},
   "outputs": [],
   "source": [
    "a={1,2,3,4}\n",
    "b={5,6,7,8}"
   ]
  },
  {
   "cell_type": "code",
   "execution_count": 34,
   "id": "a603af3d-8188-4769-8d82-0edae1fba1cf",
   "metadata": {},
   "outputs": [
    {
     "data": {
      "text/plain": [
       "set()"
      ]
     },
     "execution_count": 34,
     "metadata": {},
     "output_type": "execute_result"
    }
   ],
   "source": [
    "b.intersection(a)"
   ]
  },
  {
   "cell_type": "code",
   "execution_count": 31,
   "id": "0f14010a-8f69-4529-ab68-02b2a7898dee",
   "metadata": {},
   "outputs": [
    {
     "data": {
      "text/plain": [
       "{1, 2, 3, 4}"
      ]
     },
     "execution_count": 31,
     "metadata": {},
     "output_type": "execute_result"
    }
   ],
   "source": [
    "a.difference(b)"
   ]
  },
  {
   "cell_type": "code",
   "execution_count": null,
   "id": "9e3ec3ec-10ca-442b-8daa-567eade1e5b9",
   "metadata": {},
   "outputs": [],
   "source": []
  }
 ],
 "metadata": {
  "kernelspec": {
   "display_name": "Python 3 (ipykernel)",
   "language": "python",
   "name": "python3"
  },
  "language_info": {
   "codemirror_mode": {
    "name": "ipython",
    "version": 3
   },
   "file_extension": ".py",
   "mimetype": "text/x-python",
   "name": "python",
   "nbconvert_exporter": "python",
   "pygments_lexer": "ipython3",
   "version": "3.12.7"
  }
 },
 "nbformat": 4,
 "nbformat_minor": 5
}
